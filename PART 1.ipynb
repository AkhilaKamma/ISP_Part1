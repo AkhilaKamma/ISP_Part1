{
 "cells": [
  {
   "cell_type": "code",
   "execution_count": 12,
   "id": "699e533c",
   "metadata": {},
   "outputs": [
    {
     "name": "stdout",
     "output_type": "stream",
     "text": [
      "Database has been created successfully!\n",
      "Schema has been created successfully!\n",
      "Data has been inserted successfully!\n"
     ]
    }
   ],
   "source": [
    "import psycopg2\n",
    "from psycopg2 import sql\n",
    "from psycopg2.extensions import ISOLATION_LEVEL_AUTOCOMMIT\n",
    "\n",
    "def create_database(dbname):\n",
    "    conn_string = \"host='localhost' dbname='postgres' user='postgres' password='akhila123'\"\n",
    "    conn = psycopg2.connect(conn_string)\n",
    "    conn.set_isolation_level(ISOLATION_LEVEL_AUTOCOMMIT)\n",
    "    cursor = conn.cursor()\n",
    "    \n",
    "    #Code to drop database\n",
    "#     drop_db_query = sql.SQL(\"DROP DATABASE IF EXISTS {};\").format(sql.Identifier(dbname))\n",
    "#     cursor.execute(drop_db_query)\n",
    "    \n",
    "    #Code to create database\n",
    "    sql_create_database = f\"CREATE DATABASE {dbname};\"\n",
    "    cursor.execute(sql_create_database)\n",
    "  \n",
    "    print(\"Database has been created successfully!\")\n",
    "    conn.close()\n",
    "\n",
    "def connect_postgres(dbname):\n",
    "    conn_string = f\"host='localhost' dbname={dbname} user='postgres' password='akhila123'\"\n",
    "    conn = psycopg2.connect(conn_string)\n",
    "    return conn\n",
    "\n",
    "def execute_schema_script(conn, script_path):\n",
    "    with conn.cursor() as cursor:\n",
    "        with open(script_path, 'r') as f:\n",
    "            sql_script = f.read()\n",
    "            cursor.execute(sql_script)\n",
    "    conn.commit()\n",
    "    print(\"Schema has been created successfully!\")\n",
    "\n",
    "def execute_insert_script(conn, script_path):\n",
    "    with conn.cursor() as cursor:\n",
    "        with open(script_path, 'r') as f:\n",
    "            sql_script = f.read()\n",
    "            cursor.execute(sql_script)\n",
    "    conn.commit()\n",
    "    print(\"Data has been inserted successfully!\")\n",
    "\n",
    "if __name__ == '__main__':\n",
    "    # Specify the name of the database\n",
    "    dbname = \"test3\"\n",
    "\n",
    "    # Create the database\n",
    "    create_database(dbname)\n",
    "\n",
    "    # Connect to the newly created database\n",
    "    conn = connect_postgres(dbname)\n",
    "\n",
    "    # Specify the path to the SQL schema file\n",
    "    schema_file_path = \"schema.sql\"\n",
    "\n",
    "    # Execute the schema script to create tables\n",
    "    execute_schema_script(conn, schema_file_path)\n",
    "\n",
    "    # Specify the path to the SQL data insertion file\n",
    "    insert_data_file_path = \"insert_data.sql\"\n",
    "\n",
    "    # Execute the data insertion script\n",
    "    execute_insert_script(conn, insert_data_file_path)\n",
    "\n",
    "    # Close the database connection\n",
    "    conn.close()"
   ]
  },
  {
   "cell_type": "code",
   "execution_count": null,
   "id": "29dbb9c4",
   "metadata": {},
   "outputs": [],
   "source": []
  }
 ],
 "metadata": {
  "kernelspec": {
   "display_name": "Python 3 (ipykernel)",
   "language": "python",
   "name": "python3"
  },
  "language_info": {
   "codemirror_mode": {
    "name": "ipython",
    "version": 3
   },
   "file_extension": ".py",
   "mimetype": "text/x-python",
   "name": "python",
   "nbconvert_exporter": "python",
   "pygments_lexer": "ipython3",
   "version": "3.9.13"
  }
 },
 "nbformat": 4,
 "nbformat_minor": 5
}
